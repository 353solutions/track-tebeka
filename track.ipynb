{
 "cells": [
  {
   "cell_type": "code",
   "execution_count": 1,
   "id": "9a86be15-068f-4e79-8c09-042e8d7ea8b0",
   "metadata": {},
   "outputs": [],
   "source": [
    "import pandas as pd"
   ]
  },
  {
   "cell_type": "code",
   "execution_count": 2,
   "id": "b1d2c42f-70fb-4258-9221-4bca2a768d6e",
   "metadata": {},
   "outputs": [
    {
     "data": {
      "text/plain": [
       "time      datetime64[ns, UTC]\n",
       "lat                   float64\n",
       "lng                   float64\n",
       "height                float64\n",
       "dtype: object"
      ]
     },
     "execution_count": 2,
     "metadata": {},
     "output_type": "execute_result"
    }
   ],
   "source": [
    "df = pd.read_csv('track.csv', parse_dates=['time'])\n",
    "df.dtypes"
   ]
  },
  {
   "cell_type": "code",
   "execution_count": 3,
   "id": "bd693dea-cfc0-495b-afbd-e868cb874053",
   "metadata": {},
   "outputs": [
    {
     "data": {
      "text/html": [
       "<div>\n",
       "<style scoped>\n",
       "    .dataframe tbody tr th:only-of-type {\n",
       "        vertical-align: middle;\n",
       "    }\n",
       "\n",
       "    .dataframe tbody tr th {\n",
       "        vertical-align: top;\n",
       "    }\n",
       "\n",
       "    .dataframe thead th {\n",
       "        text-align: right;\n",
       "    }\n",
       "</style>\n",
       "<table border=\"1\" class=\"dataframe\">\n",
       "  <thead>\n",
       "    <tr style=\"text-align: right;\">\n",
       "      <th></th>\n",
       "      <th>time</th>\n",
       "      <th>lat</th>\n",
       "      <th>lng</th>\n",
       "      <th>height</th>\n",
       "    </tr>\n",
       "  </thead>\n",
       "  <tbody>\n",
       "    <tr>\n",
       "      <th>18</th>\n",
       "      <td>2015-08-20 03:48:54.662000+00:00</td>\n",
       "      <td>32.519187</td>\n",
       "      <td>35.014365</td>\n",
       "      <td>122.599998</td>\n",
       "    </tr>\n",
       "    <tr>\n",
       "      <th>23</th>\n",
       "      <td>2015-08-20 03:49:07.742000+00:00</td>\n",
       "      <td>32.518916</td>\n",
       "      <td>35.014340</td>\n",
       "      <td>123.099998</td>\n",
       "    </tr>\n",
       "    <tr>\n",
       "      <th>237</th>\n",
       "      <td>2015-08-20 03:59:22.869000+00:00</td>\n",
       "      <td>32.510184</td>\n",
       "      <td>35.011083</td>\n",
       "      <td>100.599998</td>\n",
       "    </tr>\n",
       "    <tr>\n",
       "      <th>316</th>\n",
       "      <td>2015-08-20 04:03:01.834000+00:00</td>\n",
       "      <td>32.508154</td>\n",
       "      <td>35.014292</td>\n",
       "      <td>79.800003</td>\n",
       "    </tr>\n",
       "    <tr>\n",
       "      <th>373</th>\n",
       "      <td>2015-08-20 04:05:18.810000+00:00</td>\n",
       "      <td>32.508727</td>\n",
       "      <td>35.017679</td>\n",
       "      <td>84.300003</td>\n",
       "    </tr>\n",
       "    <tr>\n",
       "      <th>454</th>\n",
       "      <td>2015-08-20 04:08:36.758000+00:00</td>\n",
       "      <td>32.509996</td>\n",
       "      <td>35.021516</td>\n",
       "      <td>91.099998</td>\n",
       "    </tr>\n",
       "    <tr>\n",
       "      <th>461</th>\n",
       "      <td>2015-08-20 04:08:59.841000+00:00</td>\n",
       "      <td>32.510334</td>\n",
       "      <td>35.021376</td>\n",
       "      <td>97.900002</td>\n",
       "    </tr>\n",
       "    <tr>\n",
       "      <th>623</th>\n",
       "      <td>2015-08-20 04:16:15.900000+00:00</td>\n",
       "      <td>32.512992</td>\n",
       "      <td>35.016803</td>\n",
       "      <td>101.500000</td>\n",
       "    </tr>\n",
       "    <tr>\n",
       "      <th>629</th>\n",
       "      <td>2015-08-20 04:16:31.960000+00:00</td>\n",
       "      <td>32.513221</td>\n",
       "      <td>35.017020</td>\n",
       "      <td>106.599998</td>\n",
       "    </tr>\n",
       "    <tr>\n",
       "      <th>650</th>\n",
       "      <td>2015-08-20 04:17:20.855000+00:00</td>\n",
       "      <td>32.513897</td>\n",
       "      <td>35.017175</td>\n",
       "      <td>113.900002</td>\n",
       "    </tr>\n",
       "  </tbody>\n",
       "</table>\n",
       "</div>"
      ],
      "text/plain": [
       "                                time        lat        lng      height\n",
       "18  2015-08-20 03:48:54.662000+00:00  32.519187  35.014365  122.599998\n",
       "23  2015-08-20 03:49:07.742000+00:00  32.518916  35.014340  123.099998\n",
       "237 2015-08-20 03:59:22.869000+00:00  32.510184  35.011083  100.599998\n",
       "316 2015-08-20 04:03:01.834000+00:00  32.508154  35.014292   79.800003\n",
       "373 2015-08-20 04:05:18.810000+00:00  32.508727  35.017679   84.300003\n",
       "454 2015-08-20 04:08:36.758000+00:00  32.509996  35.021516   91.099998\n",
       "461 2015-08-20 04:08:59.841000+00:00  32.510334  35.021376   97.900002\n",
       "623 2015-08-20 04:16:15.900000+00:00  32.512992  35.016803  101.500000\n",
       "629 2015-08-20 04:16:31.960000+00:00  32.513221  35.017020  106.599998\n",
       "650 2015-08-20 04:17:20.855000+00:00  32.513897  35.017175  113.900002"
      ]
     },
     "execution_count": 3,
     "metadata": {},
     "output_type": "execute_result"
    }
   ],
   "source": [
    "df.sample(10).sort_index()"
   ]
  },
  {
   "cell_type": "code",
   "execution_count": 4,
   "id": "8f72b35c-ca7c-41ea-b0a9-f21397a76405",
   "metadata": {},
   "outputs": [
    {
     "data": {
      "text/plain": [
       "0                      NaT\n",
       "1   0 days 00:00:17.499000\n",
       "2   0 days 00:00:00.926000\n",
       "3   0 days 00:00:01.159000\n",
       "4   0 days 00:00:01.009000\n",
       "Name: time, dtype: timedelta64[ns]"
      ]
     },
     "execution_count": 4,
     "metadata": {},
     "output_type": "execute_result"
    }
   ],
   "source": [
    "time = df['time'].diff()\n",
    "time.head()"
   ]
  },
  {
   "cell_type": "code",
   "execution_count": 5,
   "id": "4b2b73fa-7088-4dfd-800e-5bc613a6428a",
   "metadata": {},
   "outputs": [],
   "source": [
    "import numpy as np\n",
    "\n",
    "lat_km = 92\n",
    "lng_km = 111\n",
    "\n",
    "def distance(lat1, lng1, lat2, lng2):\n",
    "    delta_lat = (lat1 - lat2) * lat_km\n",
    "    delta_lng = (lng1 - lng2) * lng_km\n",
    "    return np.hypot(delta_lat, delta_lng)"
   ]
  },
  {
   "cell_type": "code",
   "execution_count": 6,
   "id": "7a834256-f239-49aa-87c8-f29088937a94",
   "metadata": {},
   "outputs": [
    {
     "data": {
      "text/plain": [
       "0         NaN\n",
       "1    0.007684\n",
       "2    0.009230\n",
       "3    0.006492\n",
       "4    0.006225\n",
       "dtype: float64"
      ]
     },
     "execution_count": 6,
     "metadata": {},
     "output_type": "execute_result"
    }
   ],
   "source": [
    "dist_km = distance(\n",
    "    df['lat'], df['lng'],\n",
    "    df['lat'].shift(), df['lng'].shift(),\n",
    ")\n",
    "dist_km.head()"
   ]
  },
  {
   "cell_type": "code",
   "execution_count": 7,
   "id": "d6e5526e-2dc5-4beb-b06f-9fdad8ce79b7",
   "metadata": {},
   "outputs": [
    {
     "data": {
      "text/plain": [
       "4.693669332948701"
      ]
     },
     "execution_count": 7,
     "metadata": {},
     "output_type": "execute_result"
    }
   ],
   "source": [
    "dist_km.sum()"
   ]
  },
  {
   "cell_type": "code",
   "execution_count": 8,
   "id": "8298d052-624d-444b-b862-6721c2de35a1",
   "metadata": {},
   "outputs": [],
   "source": [
    "time_hours = time / pd.Timedelta(hours=1)\n",
    "speed_kmh = dist_km / time_hours"
   ]
  },
  {
   "cell_type": "code",
   "execution_count": 9,
   "id": "6f1a9779-2a12-4960-a9bf-d8981cc771aa",
   "metadata": {},
   "outputs": [
    {
     "data": {
      "image/png": "[encoded data removed]",
      "text/plain": [
       "<Figure size 432x288 with 1 Axes>"
      ]
     },
     "metadata": {},
     "output_type": "display_data"
    }
   ],
   "source": [
    "import matplotlib.pyplot as plt\n",
    "plt.style.use('seaborn-whitegrid')\n",
    "\n",
    "date = df['time'][0].strftime('%a, %b %d %Y')\n",
    "ax = speed_kmh.plot.box(title=f'{date} Run')\n",
    "ax.set_xticks([])  # Remove \"None\"\n",
    "ax.set_ylabel(r'Running speed $\\frac{km}{h}$');"
   ]
  },
  {
   "cell_type": "code",
   "execution_count": null,
   "id": "edc6c62f-ccd9-4b62-9ead-d8c19fc78c82",
   "metadata": {},
   "outputs": [],
   "source": []
  }
 ],
 "metadata": {
  "kernelspec": {
   "display_name": "Python 3 (ipykernel)",
   "language": "python",
   "name": "python3"
  },
  "language_info": {
   "codemirror_mode": {
    "name": "ipython",
    "version": 3
   },
   "file_extension": ".py",
   "mimetype": "text/x-python",
   "name": "python",
   "nbconvert_exporter": "python",
   "pygments_lexer": "ipython3",
   "version": "3.10.1"
  }
 },
 "nbformat": 4,
 "nbformat_minor": 5
}
